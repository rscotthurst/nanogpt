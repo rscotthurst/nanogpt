{
 "cells": [
  {
   "cell_type": "markdown",
   "id": "bbb5afd2-b091-4059-b622-4acbc4060279",
   "metadata": {},
   "source": [
    "## Import Required Libraries"
   ]
  },
  {
   "cell_type": "code",
   "execution_count": 1,
   "id": "43b0b6dc-3c81-44b2-b3cb-ae0cf5d7e881",
   "metadata": {
    "tags": []
   },
   "outputs": [],
   "source": [
    "!pip install -q pytorch-transformers"
   ]
  },
  {
   "cell_type": "code",
   "execution_count": 2,
   "id": "74853885-5aca-4290-8d72-ccd69e0e1535",
   "metadata": {
    "tags": []
   },
   "outputs": [],
   "source": [
    "import torch\n",
    "from pytorch_transformers import GPT2Tokenizer, GPT2LMHeadModel"
   ]
  },
  {
   "cell_type": "markdown",
   "id": "8e815c47-f3f9-4d1b-bcf8-92ae3c3c8fff",
   "metadata": {},
   "source": [
    "## Set Up the Tokenizer\n",
    "\n",
    "The script uses the `GPT2Tokenizer` class from the `pytorch_transformers` library to load the **pre-trained** tokenizer associated with the `gpt2` model. The tokenizer is responsible for converting input text into a format that the model can understand. This includes splitting the text into tokens (words, subwords, or characters), mapping the tokens to their corresponding IDs in the model’s vocabulary, and creating the necessary inputs for the model (like attention masks)."
   ]
  },
  {
   "cell_type": "code",
   "execution_count": 3,
   "id": "5906afd6-8444-4880-a6a2-2091d5923894",
   "metadata": {
    "tags": []
   },
   "outputs": [],
   "source": [
    "tokenizer = GPT2Tokenizer.from_pretrained('gpt2')"
   ]
  },
  {
   "cell_type": "markdown",
   "id": "ae2e437a-c78c-4112-8172-aacafdb6374c",
   "metadata": {},
   "source": [
    "## Encode and Convert Text to Tokenized Tensor"
   ]
  },
  {
   "cell_type": "code",
   "execution_count": 12,
   "id": "c934f9de-ade8-4040-a0ff-a63e12a9dae2",
   "metadata": {
    "tags": []
   },
   "outputs": [],
   "source": [
    "text = \"What is the most populated\""
   ]
  },
  {
   "cell_type": "code",
   "execution_count": 13,
   "id": "01780564-aed9-4145-9ffb-e0af3f5f79eb",
   "metadata": {
    "tags": []
   },
   "outputs": [
    {
     "name": "stdout",
     "output_type": "stream",
     "text": [
      "\"What is the most populated\" tokenized becomes [1867, 318, 262, 749, 22331]\n"
     ]
    }
   ],
   "source": [
    "indexed_tokens = tokenizer.encode(text)\n",
    "print(f'\"{text}\" tokenized becomes {indexed_tokens}')"
   ]
  },
  {
   "cell_type": "code",
   "execution_count": 14,
   "id": "df27625b-8b86-4b7c-8e45-d82b522199a8",
   "metadata": {
    "tags": []
   },
   "outputs": [
    {
     "data": {
      "text/plain": [
       "tensor([[ 1867,   318,   262,   749, 22331]])"
      ]
     },
     "execution_count": 14,
     "metadata": {},
     "output_type": "execute_result"
    }
   ],
   "source": [
    "# Convert indexed tokens in a PyTorch tensor\n",
    "tokens_tensor = torch.tensor([indexed_tokens])\n",
    "tokens_tensor"
   ]
  },
  {
   "cell_type": "markdown",
   "id": "912fbcd1-51d4-4a60-85d3-0791cdd7adad",
   "metadata": {},
   "source": [
    "## Load pre-trained model (weights)"
   ]
  },
  {
   "cell_type": "code",
   "execution_count": 15,
   "id": "9b96f7f6-129b-4f7e-a72d-6b1bf082b22e",
   "metadata": {
    "tags": []
   },
   "outputs": [],
   "source": [
    "model = GPT2LMHeadModel.from_pretrained('gpt2')"
   ]
  },
  {
   "cell_type": "markdown",
   "id": "554385e5-8d34-46b5-a82f-d5cb918b9b66",
   "metadata": {},
   "source": [
    "## Set Model To Evaluation Mode\n",
    "\n",
    "This deactivates the DropOut modules"
   ]
  },
  {
   "cell_type": "code",
   "execution_count": 16,
   "id": "5c7286d3-80b6-4fdd-93b5-7748f18126b4",
   "metadata": {
    "tags": []
   },
   "outputs": [
    {
     "data": {
      "text/plain": [
       "GPT2LMHeadModel(\n",
       "  (transformer): GPT2Model(\n",
       "    (wte): Embedding(50257, 768)\n",
       "    (wpe): Embedding(1024, 768)\n",
       "    (drop): Dropout(p=0.1, inplace=False)\n",
       "    (h): ModuleList(\n",
       "      (0-11): 12 x Block(\n",
       "        (ln_1): LayerNorm((768,), eps=1e-05, elementwise_affine=True)\n",
       "        (attn): Attention(\n",
       "          (c_attn): Conv1D()\n",
       "          (c_proj): Conv1D()\n",
       "          (attn_dropout): Dropout(p=0.1, inplace=False)\n",
       "          (resid_dropout): Dropout(p=0.1, inplace=False)\n",
       "        )\n",
       "        (ln_2): LayerNorm((768,), eps=1e-05, elementwise_affine=True)\n",
       "        (mlp): MLP(\n",
       "          (c_fc): Conv1D()\n",
       "          (c_proj): Conv1D()\n",
       "          (dropout): Dropout(p=0.1, inplace=False)\n",
       "        )\n",
       "      )\n",
       "    )\n",
       "    (ln_f): LayerNorm((768,), eps=1e-05, elementwise_affine=True)\n",
       "  )\n",
       "  (lm_head): Linear(in_features=768, out_features=50257, bias=False)\n",
       ")"
      ]
     },
     "execution_count": 16,
     "metadata": {},
     "output_type": "execute_result"
    }
   ],
   "source": [
    "model.eval()"
   ]
  },
  {
   "cell_type": "code",
   "execution_count": 17,
   "id": "8540264b-efe9-4a90-910c-f22842301b4c",
   "metadata": {
    "tags": []
   },
   "outputs": [],
   "source": [
    "# # If you have a GPU, put everything on cuda\n",
    "# tokens_tensor = tokens_tensor.to('cuda')\n",
    "# model.to('cuda')"
   ]
  },
  {
   "cell_type": "code",
   "execution_count": 18,
   "id": "689427c1-e8f7-4ce7-bc27-fdc3144cfea8",
   "metadata": {
    "tags": []
   },
   "outputs": [],
   "source": [
    "# Predict all tokens\n",
    "with torch.no_grad():\n",
    "    outputs = model(tokens_tensor)\n",
    "    predictions = outputs[0]"
   ]
  },
  {
   "cell_type": "code",
   "execution_count": 19,
   "id": "8f786f59-f294-4933-b6d2-9892cf1d6c7a",
   "metadata": {
    "tags": []
   },
   "outputs": [
    {
     "name": "stdout",
     "output_type": "stream",
     "text": [
      " What is the most populated city\n"
     ]
    }
   ],
   "source": [
    "# Get the predicted next sub-word\n",
    "predicted_index = torch.argmax(predictions[0, -1, :]).item()\n",
    "predicted_text = tokenizer.decode(indexed_tokens + [predicted_index])\n",
    "\n",
    "# Print the predicted word\n",
    "print(predicted_text)"
   ]
  },
  {
   "cell_type": "code",
   "execution_count": null,
   "id": "b76a1893-6c98-4212-b4f5-30164caa09be",
   "metadata": {},
   "outputs": [],
   "source": []
  }
 ],
 "metadata": {
  "kernelspec": {
   "display_name": "conda_pytorch_p310",
   "language": "python",
   "name": "conda_pytorch_p310"
  },
  "language_info": {
   "codemirror_mode": {
    "name": "ipython",
    "version": 3
   },
   "file_extension": ".py",
   "mimetype": "text/x-python",
   "name": "python",
   "nbconvert_exporter": "python",
   "pygments_lexer": "ipython3",
   "version": "3.10.13"
  }
 },
 "nbformat": 4,
 "nbformat_minor": 5
}
